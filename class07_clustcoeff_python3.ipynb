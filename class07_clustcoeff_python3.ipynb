{
 "cells": [
  {
   "cell_type": "markdown",
   "metadata": {},
   "source": [
    "# CS446/519 - Class Session 7 - Transitivity (Clustering Coefficients)\n",
    "\n",
    "In this class session we are going to compute the local clustering coefficient of all vertices in the undirected human\n",
    "protein-protein interaction network (PPI), in two ways -- first without using `igraph`, and the using `igraph`. We'll obtain the interaction data from the Pathway Commons SIF file (in the `shared/` folder), we'll make an \"adjacency forest\" representation of the network, and we'll manually compute the local clustering coefficient of each vertex (protein) in the network using the \"enumerating neighbor pairs\" method described by Newman. Then we'll run the same algorithm using the `transitivity` function in `igraph`, and we'll compare the results in order to check our work.  Grad students:  you should also group vertices by their \"binned\" vertex degree k (bin size 50, total number of bins = 25) and plot the average local clustering coefficient for the vertices within a bin, against the center k value for the bin, on log-log scale (compare to Newman Fig. 8.12)"
   ]
  },
  {
   "cell_type": "markdown",
   "metadata": {},
   "source": [
    "## Transitivity\n",
    "\n",
    "考虑 undirected 的情况。\n",
    "\n",
    "假设我们有一个 length 为 2 的 path $u \\rightarrow v \\rightarrow w$，如果有 $u \\rightarrow w$，i.e. 形成了 triangle (social network 称为 closed triad)，我们称这个 length 为 2 的 path _\"closed\"_。\n",
    "\n",
    "cluster coefficient $C = \\frac{\\text{# of closed paths of length 2}}{\\text{# of paths of length 2}}$\n",
    "\n",
    "$C=1 \\Rightarrow $ perfect transitivity. I.e. $G$ is a network whose components are all _**cliques**_\n",
    "\n",
    "- 严格来说，这里 clique 应该是指 fully connected subgraph\n",
    "- 因为严格来说 A clique is a subset of vertices of an undirected graph such that its induced subgraph is complete; that is, every two distinct vertices in the clique are adjacent.\n",
    "\n",
    "$C=0 \\Rightarrow $ no closed triad at all. E.g. trees.\n",
    "\n",
    "一个等价的计算方法：$C = \\frac{(\\text{# of triangles}) \\times 6}{\\text{# of paths of length 2}}$\n",
    "\n",
    "对一条 path of length 2，$u \\rightarrow v \\rightarrow w$ 而言，我们称有两个 _**connected triples**_，一个是 $uvw$ 一个是 $wvu$\n",
    "\n",
    "所以又有一个等价的计算方法：$C = \\frac{(\\text{# of triangles}) \\times 3}{\\text{# of connected triples}}$\n",
    "\n",
    "## Local Clustering and Redundancy\n",
    "\n",
    "Let $N_v$ be the set of neighbours of vertex $v$. \n",
    "\n",
    "$C_v = \\frac{\\text{# of }(u,v) \\text{ such that } u,v \\text{ are connected and } u,v \\in N_v}{\\text{# of }(u,v) \\text{ such that } u,v \\in N_v}$\n",
    "\n",
    "其中 $\\text{# of }(u,v) \\text{ such that } u,v \\in N_v = \\frac{1}{2} k_v (k_v - 1)$\n",
    "\n",
    "## 待续\n",
    "\n",
    "20161005.pdf 也要补充上来"
   ]
  },
  {
   "cell_type": "markdown",
   "metadata": {},
   "source": [
    "Step 1:  load in the SIF file (refer to Class 6 exercise)"
   ]
  },
  {
   "cell_type": "code",
   "execution_count": 1,
   "metadata": {
    "collapsed": true
   },
   "outputs": [],
   "source": [
    "import pandas\n",
    "sif_data = pandas.read_csv(\"shared/pathway_commons.sif\",\n",
    "                           sep=\"\\t\", names=[\"species1\",\"interaction_type\",\"species2\"])"
   ]
  },
  {
   "cell_type": "markdown",
   "metadata": {},
   "source": [
    "Step 2:  restrict the interactions to protein-protein undirected (\"in-complex-with\", \"interacts-with\")"
   ]
  },
  {
   "cell_type": "code",
   "execution_count": 2,
   "metadata": {
    "collapsed": true
   },
   "outputs": [],
   "source": [
    "interaction_types_ppi = set([\"interacts-with\",\n",
    "                             \"in-complex-with\"])\n",
    "interac_ppi = sif_data[sif_data.interaction_type.isin(interaction_types_ppi)]"
   ]
  },
  {
   "cell_type": "markdown",
   "metadata": {},
   "source": [
    "Step 3: restrict the data frame to only the unique interaction pairs of proteins (ignoring the interaction type), and make an igraph graph from the edgelist data frame (refer to Class 3 exercise and Class 6 exercise)"
   ]
  },
  {
   "cell_type": "code",
   "execution_count": 3,
   "metadata": {
    "collapsed": false
   },
   "outputs": [
    {
     "name": "stdout",
     "output_type": "stream",
     "text": [
      "IGRAPH UN-- 17020 491784 -- \n",
      "+ attr: name (v)\n"
     ]
    }
   ],
   "source": [
    "for i in range(0, interac_ppi.shape[0]):\n",
    "    if interac_ppi.iat[i,0] > interac_ppi.iat[i,2]:\n",
    "        temp_name = interac_ppi.iat[i,0]\n",
    "        interac_ppi.set_value(i, 'species1', interac_ppi.iat[i,2])\n",
    "        interac_ppi.set_value(i, 'species2', temp_name)\n",
    "        \n",
    "interac_ppi_unique = interac_ppi[[\"species1\",\"species2\"]].drop_duplicates()        \n",
    "\n",
    "from igraph import Graph\n",
    "from igraph import summary\n",
    "ppi_igraph = Graph.TupleList(interac_ppi_unique.values.tolist(), directed=False)\n",
    "summary(ppi_igraph)"
   ]
  },
  {
   "cell_type": "markdown",
   "metadata": {},
   "source": [
    "Step 4: Obtain an adjacency list representation of the graph (refer to Class 5 exercise)"
   ]
  },
  {
   "cell_type": "code",
   "execution_count": 4,
   "metadata": {
    "collapsed": true
   },
   "outputs": [],
   "source": [
    "ppi_adj_list = ppi_igraph.get_adjlist()"
   ]
  },
  {
   "cell_type": "markdown",
   "metadata": {},
   "source": [
    "Step 5: Make an adjacency forest data structure (refer to Class 5 exercise)"
   ]
  },
  {
   "cell_type": "code",
   "execution_count": 5,
   "metadata": {
    "collapsed": true
   },
   "outputs": [],
   "source": [
    "import bintrees\n",
    "\n",
    "def get_bst_forest(theadjlist):\n",
    "    g_adj_list = theadjlist\n",
    "    n = len(g_adj_list)\n",
    "    theforest = []\n",
    "    for i in range(0,n):        \n",
    "        itree = bintrees.AVLTree()\n",
    "        for j in g_adj_list[i]:\n",
    "            itree.insert(j,1)\n",
    "        theforest.append(itree)\n",
    "    return theforest\n",
    "\n",
    "def find_bst_forest(bst_forest, i, j):\n",
    "    return j in bst_forest[i]\n",
    "\n",
    "ppi_adj_forest = get_bst_forest(ppi_adj_list)"
   ]
  },
  {
   "cell_type": "markdown",
   "metadata": {
    "collapsed": true
   },
   "source": [
    "Step 6: Compute the local clustering coefficient (Ci) values (do timing on this operation) as a numpy array (just do it for the first 100 nodes!!!); for any vertex with degree=1, it's Ci value can be numpy.NaN"
   ]
  },
  {
   "cell_type": "code",
   "execution_count": 7,
   "metadata": {
    "collapsed": false
   },
   "outputs": [
    {
     "name": "stdout",
     "output_type": "stream",
     "text": [
      "128.635312106926\n"
     ]
    }
   ],
   "source": [
    "import numpy\n",
    "import timeit\n",
    "N = len(ppi_adj_list)\n",
    "civals = numpy.zeros(100)\n",
    "civals[:] = numpy.NaN\n",
    "start_time = timeit.default_timer()\n",
    "for n in range(0, 100):\n",
    "    neighbors = ppi_adj_list[n]\n",
    "    nneighbors = len(neighbors)\n",
    "    if nneighbors > 1:\n",
    "        nctr = 0\n",
    "        for i in range(0, nneighbors):\n",
    "            for j in range(i+1, nneighbors):\n",
    "                if neighbors[j] in ppi_adj_forest[neighbors[i]]:\n",
    "                    nctr += 1\n",
    "        civals[n] = nctr/(nneighbors*(nneighbors-1)/2)\n",
    "        \n",
    "ci_elapsed = timeit.default_timer() - start_time\n",
    "print(ci_elapsed)"
   ]
  },
  {
   "cell_type": "raw",
   "metadata": {},
   "source": [
    "Step 7: Calculate the local clustering coefficients for the first 100 vertices using \n",
    "`igraph` (function `transitivity_local_undirected`) and do timing on the call to `transitivity_local_undirected`"
   ]
  },
  {
   "cell_type": "code",
   "execution_count": 21,
   "metadata": {
    "collapsed": false
   },
   "outputs": [
    {
     "name": "stdout",
     "output_type": "stream",
     "text": [
      "0.9083120741415769\n"
     ]
    }
   ],
   "source": [
    "start_time = timeit.default_timer()\n",
    "civals_igraph = ppi_igraph.transitivity_local_undirected(vertices=range(0,100))\n",
    "ci_elapsed = timeit.default_timer() - start_time\n",
    "print(ci_elapsed)"
   ]
  },
  {
   "cell_type": "markdown",
   "metadata": {},
   "source": [
    "Step 8: Compare your Ci values to those that you got from `igraph`, using a scatter plot"
   ]
  },
  {
   "cell_type": "code",
   "execution_count": 22,
   "metadata": {
    "collapsed": false
   },
   "outputs": [
    {
     "data": {
      "image/png": "[encoded data removed]",
      "text/plain": [
       "<matplotlib.figure.Figure at 0x7fa73a960390>"
      ]
     },
     "metadata": {},
     "output_type": "display_data"
    }
   ],
   "source": [
    "import matplotlib.pyplot\n",
    "matplotlib.pyplot.plot(civals, civals_igraph)\n",
    "matplotlib.pyplot.show()"
   ]
  },
  {
   "cell_type": "markdown",
   "metadata": {},
   "source": [
    "Step 9:  scatter plot the average log(Ci) vs. log(k) (i.e., local clustering coefficient vs. vertex degree) for 25 bins of vertex degree, with each bin size being 50 (so we are binning by k, and the bin centers are 50, 100, 150, 200, ...., 1250)"
   ]
  },
  {
   "cell_type": "code",
   "execution_count": 25,
   "metadata": {
    "collapsed": false,
    "scrolled": false
   },
   "outputs": [
    {
     "data": {
      "image/png": "[encoded data removed]",
      "text/plain": [
       "<matplotlib.figure.Figure at 0x7fa7345e9e80>"
      ]
     },
     "metadata": {},
     "output_type": "display_data"
    }
   ],
   "source": [
    "civals_igraph = numpy.array(ppi_igraph.transitivity_local_undirected())\n",
    "deg_igraph = ppi_igraph.degree()\n",
    "deg_npa = numpy.array(deg_igraph)\n",
    "deg_binids = numpy.rint(deg_npa/50)\n",
    "binkvals = 50*numpy.array(range(0,25))\n",
    "civals_avg = numpy.zeros(25)\n",
    "for i in range(0,25):\n",
    "    civals_avg[i] = numpy.mean(civals_igraph[deg_binids == i])\n",
    "    \n",
    "\n",
    "\n",
    "matplotlib.pyplot.loglog(\n",
    "    binkvals,\n",
    "    civals_avg)\n",
    "matplotlib.pyplot.show()"
   ]
  },
  {
   "cell_type": "markdown",
   "metadata": {},
   "source": [
    "Step 10: Now try computing the local clustering coefficient using a \"list of hashtables\" approach; compute the local clustering coefficients for all vertices, and compare to the timing for R.  Which is faster, the python3 implementation or the R implementation?"
   ]
  },
  {
   "cell_type": "code",
   "execution_count": 38,
   "metadata": {
    "collapsed": false
   },
   "outputs": [
    {
     "name": "stdout",
     "output_type": "stream",
     "text": [
      "70.81329636205919\n"
     ]
    }
   ],
   "source": [
    "civals = numpy.zeros(len(ppi_adj_list))\n",
    "civals[:] = numpy.NaN\n",
    "\n",
    "ppi_adj_hash = []\n",
    "for i in range(0, len(ppi_adj_list)):\n",
    "    newhash = {}\n",
    "    for j in ppi_adj_list[i]:\n",
    "        newhash[j] = True\n",
    "    ppi_adj_hash.append(newhash)\n",
    "\n",
    "    \n",
    "start_time = timeit.default_timer()\n",
    "for n in range(0, len(ppi_adj_list)):\n",
    "    neighbors = ppi_adj_hash[n]\n",
    "    nneighbors = len(neighbors)\n",
    "    if nneighbors > 1:\n",
    "        nctr = 0\n",
    "        for i in neighbors:\n",
    "            for j in neighbors:\n",
    "                if (j > i) and (j in ppi_adj_hash[i]):\n",
    "                    nctr += 1\n",
    "        civals[n] = nctr/(nneighbors*(nneighbors-1)/2)\n",
    "        \n",
    "ci_elapsed = timeit.default_timer() - start_time\n",
    "print(ci_elapsed)"
   ]
  },
  {
   "cell_type": "markdown",
   "metadata": {},
   "source": [
    "So the built-in python dictionary type gave us fantastic performance.  But is this coming at the cost of huge memory footprint? (after all, we could use an adjacency matrix if we were willing to accommodate O(n^2) memory usage). Let's check the size of our adjacency \"list of hashtables\", in MB:"
   ]
  },
  {
   "cell_type": "code",
   "execution_count": 47,
   "metadata": {
    "collapsed": false
   },
   "outputs": [
    {
     "data": {
      "text/plain": [
       "81.793984"
      ]
     },
     "execution_count": 47,
     "metadata": {},
     "output_type": "execute_result"
    }
   ],
   "source": [
    "from pympler import asizeof\n",
    "asizeof.asizeof(ppi_adj_hash)/1000000"
   ]
  }
 ],
 "metadata": {
  "kernelspec": {
   "display_name": "Python 3",
   "language": "python",
   "name": "python3"
  },
  "language_info": {
   "codemirror_mode": {
    "name": "ipython",
    "version": 3
   },
   "file_extension": ".py",
   "mimetype": "text/x-python",
   "name": "python",
   "nbconvert_exporter": "python",
   "pygments_lexer": "ipython3",
   "version": "3.5.2"
  }
 },
 "nbformat": 4,
 "nbformat_minor": 1
}
