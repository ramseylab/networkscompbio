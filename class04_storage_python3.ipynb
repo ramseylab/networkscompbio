{
 "cells": [
  {
   "cell_type": "markdown",
   "metadata": {},
   "source": [
    "## Graph data structures\n",
    "\n",
    "Suppose there are $N$ vertices and $E$ edges in graph $G$.\n",
    "\n",
    "| Operation                         | Adj. Matrix | Adj. List        | Edge List |\n",
    "|-----------------------------------|-------------|------------------|-----------|\n",
    "| Enumerate (all neighbours of $v$) | $O(N)$      | $O(\\frac{E}{N})$ | $O(E)$    |\n",
    "| Find (if $(u,v)$ are connected)   | $O(1)$      | $O(\\frac{E}{N})$ | $O(E)$    |\n",
    "| Insert (an edge)                  | $O(1)$      | $O(1)$           | $O(1)$    |\n",
    "| Delete (an edge)                  | $O(1)$      | $O(\\frac{E}{N})$ | $O(1)$    |\n",
    "| Storage                           | $O(N^2)$    | $O(E)$           | $O(E)$    |\n",
    "\n",
    "Note that $\\frac{E}{N}$ is actually the average degree $k$ in graph $G$.\n",
    "\n",
    "## Exercise\n",
    "\n",
    "1. Write a function `enumerate_matrix` that takes full adjacency matrix (as a $N \\times N$ matrix in R, or as a $N \\times N$ `numpy` matrix in python) and an integer vertex number `i` as input, and returns a list (or vector in the case of R) of the vertex numbers of the neighboring vertices\n",
    "2. Write a function `enumerate_adj_list` that takes an adjacency list data structure (as a list of vectors in R, and as a list of lists in Python) and an integer vertex number `i` as input, and returns a list (or vector in the case of R) of the vertex numbers of the neighboring vertices\n",
    "3. Write a function `enumerate_edge_list` that takes an edge-list data structure (as a $N \\times 2$ data frame in R, and as a $N \\times 2$ `numpy.ndarray` in python) and an integer vertex number `i` as input, and returns a list (or vector in the case of R) of the vertex numbers of the neighboring vertices\n",
    "4. Write a function `dosim` that takes a single parameter $n$ (number of vertices) that does the following procedure 10 times internally, taking the resulting three-vector from each time and stacking them and averaging the results column-wise:\n",
    "    - generate a Barabasi-Albert graph with $n$ vertices and $5 \\times n$ edges\n",
    "    - obtain the adjacency matrix for the graph, and obtain the overall running time for running `enumerate_matrix` on this object 1,000 times for each value of n as the `i` parameter\n",
    "    - obtain the adjacency list for the graph, and obtain the overall running time for running `enumerate_adj_list` on this object 1,000 times for each value of n as the `i` parameter\n",
    "    - obtain the edge-list for the graph, and obtain the overall running time for running `enumerate_edge_list` on this object 1,000 times for each value of n as the “i” parameter\n",
    "    - resulting three-vector is the running time for each of the above three steps\n"
   ]
  },
  {
   "cell_type": "markdown",
   "metadata": {},
   "source": [
    "# Class Session 4 Exercise:\n",
    "## Comparing asymptotic running time for enumerating vertex neighbors"
   ]
  },
  {
   "cell_type": "markdown",
   "metadata": {},
   "source": [
    "We will measure the running time for enumerating the neighbor vertices for three different data structures for representing the graph:\n",
    "    adjacency matrix\n",
    "    adjacency list\n",
    "    edge list\n",
    "    \n",
    "First, we import all the Python modules that we will need for this exercise:"
   ]
  },
  {
   "cell_type": "code",
   "execution_count": 2,
   "metadata": {
    "collapsed": true
   },
   "outputs": [],
   "source": [
    "import numpy as np\n",
    "import igraph\n",
    "import timeit\n",
    "import itertools"
   ]
  },
  {
   "cell_type": "markdown",
   "metadata": {},
   "source": [
    "Define a function that enumerates the neighbors of a vertex i, when the \n",
    "graph is stored in adjacency matrix format"
   ]
  },
  {
   "cell_type": "code",
   "execution_count": 33,
   "metadata": {
    "collapsed": false
   },
   "outputs": [
    {
     "name": "stdout",
     "output_type": "stream",
     "text": [
      "[[0, 1, 1, 1]\n",
      " [1, 0, 1, 1]\n",
      " [1, 1, 0, 0]\n",
      " [1, 1, 0, 0]]\n",
      "<class 'igraph.datatypes.Matrix'>\n",
      "<class 'list'>\n",
      "=====\n",
      "[[0, 1, 1, 1], [1, 0, 1, 1], [1, 1, 0, 0], [1, 1, 0, 0]]\n",
      "<class 'list'>\n",
      "=====\n",
      "[[0 1 1 1]\n",
      " [1 0 1 1]\n",
      " [1 1 0 0]\n",
      " [1 1 0 0]]\n",
      "(array([0, 0, 0]), array([0, 2, 3]))\n",
      "=====\n",
      "N.B Difference!\n",
      "(array([0, 2, 3]),)\n",
      "(array([0, 0, 0]), array([0, 2, 3]))\n",
      "[0, 2, 3]\n"
     ]
    }
   ],
   "source": [
    "def enumerate_matrix(gmat, i):\n",
    "    # np.nonzero(matrix) 返回 (array([row, ...]), array([col, ...]))\n",
    "    return np.nonzero(gmat[i,:])[1].tolist()\n",
    "\n",
    "# make a random undirected graph with 4 vertices and fixed (average) vertex degree = 3\n",
    "g = igraph.Graph.Barabasi(4, 2)\n",
    "\n",
    "print(g.get_adjacency())\n",
    "print(type(g.get_adjacency()))\n",
    "print(type(g.get_adjacency()[1,:]))\n",
    "print(\"=====\")\n",
    "print(g.get_adjacency().data)\n",
    "print(type(g.get_adjacency().data))\n",
    "print(\"=====\")\n",
    "print(np.matrix(g.get_adjacency().data))\n",
    "print(np.nonzero(np.matrix(g.get_adjacency().data)[1,:]))\n",
    "print(\"=====\")\n",
    "\n",
    "print(\"N.B Difference!\")\n",
    "gmat1 = g.get_adjacency()\n",
    "gmat2 = np.matrix(g.get_adjacency().data)\n",
    "print(np.nonzero(gmat1[1,:]))  # 如果 enumerate_matrix 的参数是这个 matrix，应该返回 np.nonzero(gmat[i,:])[0]\n",
    "print(np.nonzero(gmat2[1,:]))\n",
    "\n",
    "print(enumerate_matrix(gmat2, 1))"
   ]
  },
  {
   "cell_type": "markdown",
   "metadata": {},
   "source": [
    "Define a function that enumerates the neighbors of a vertex i, when the \n",
    "graph is stored in adjacency list format"
   ]
  },
  {
   "cell_type": "code",
   "execution_count": 16,
   "metadata": {
    "collapsed": false
   },
   "outputs": [
    {
     "name": "stdout",
     "output_type": "stream",
     "text": [
      "[[1, 2, 3], [0, 2, 3], [0, 1], [0, 1]]\n",
      "[0, 2, 3]\n"
     ]
    }
   ],
   "source": [
    "def enumerate_adj_list(adj_list, i):\n",
    "    return adj_list[i]\n",
    "\n",
    "g_al = g.get_adjlist()\n",
    "\n",
    "print(g_al)\n",
    "print(enumerate_adj_list(g_al, 1))"
   ]
  },
  {
   "cell_type": "markdown",
   "metadata": {},
   "source": [
    "Define a function that enumerates the neighbors of a vertex i, when the \n",
    "graph is stored in edge-list format"
   ]
  },
  {
   "cell_type": "code",
   "execution_count": 36,
   "metadata": {
    "collapsed": false
   },
   "outputs": [
    {
     "name": "stdout",
     "output_type": "stream",
     "text": [
      "[(0, 1), (0, 2), (1, 2), (1, 3), (0, 3)]\n",
      "[[0 1]\n",
      " [0 2]\n",
      " [1 2]\n",
      " [1 3]\n",
      " [0 3]]\n",
      "[0, 2, 3]\n"
     ]
    }
   ],
   "source": [
    "def enumerate_edge_list(edge_list, i):\n",
    "    inds1 = np.where(edge_list[:,0] == i)[0]\n",
    "    elems1 = edge_list[inds1, 1].tolist()\n",
    "    inds2 = np.where(edge_list[:,1] == i)[0]\n",
    "    elems2 = edge_list[inds2, 0].tolist()\n",
    "    return np.unique(elems1 + elems2).tolist()\n",
    "\n",
    "# g_el = [edge.tuple for edge in g.es]  # Equivlent!\n",
    "g_el = g.get_edgelist() \n",
    "\n",
    "print(g_el)  # a list of tuples\n",
    "print(np.array(g_el))  # a nx2 array\n",
    "print(enumerate_edge_list(np.array(g_el), 1))"
   ]
  },
  {
   "cell_type": "markdown",
   "metadata": {},
   "source": [
    "This next function is the simulation funtion.  \"n\" is the number of vertices.\n",
    "It returns a length-three list containing the average running time for enumerating the neighbor vertices of a vertex in the graph. "
   ]
  },
  {
   "cell_type": "code",
   "execution_count": 25,
   "metadata": {
    "collapsed": false
   },
   "outputs": [],
   "source": [
    "def do_sim(n):\n",
    "    \"\"\"\n",
    "        n - number of vertices\n",
    "    \"\"\"\n",
    "\n",
    "    retlist = []\n",
    "    \n",
    "    nrep = 10  # 产生 10 张图\n",
    "    nsubrep = 10  # 在每张图上做 10 次操作，每次操作都从 0 遍历到 N-1\n",
    "    \n",
    "    # this is (sort of) a Python way of doing the R function \"replicate\":\n",
    "    for _ in itertools.repeat(None, nrep):\n",
    "        \n",
    "        # make a random undirected graph with fixed (average) vertex degree = 5\n",
    "        g = igraph.Graph.Barabasi(n, 5)\n",
    "        \n",
    "        # get the graph in three different representations\n",
    "        g_matrix = np.matrix(g.get_adjacency().data)\n",
    "        g_adj_list = g.get_adjlist()\n",
    "        g_edge_list = np.array(g.get_edgelist())\n",
    "    \n",
    "        start_time = timeit.default_timer()\n",
    "    \n",
    "        for _ in itertools.repeat(None, nsubrep):\n",
    "            for i in range(0, n):\n",
    "                enumerate_matrix(g_matrix, i)\n",
    "    \n",
    "        matrix_elapsed = timeit.default_timer() - start_time\n",
    "        \n",
    "        start_time = timeit.default_timer()\n",
    "        \n",
    "        for _ in itertools.repeat(None, nsubrep):\n",
    "             for i in range(0, n):\n",
    "                enumerate_adj_list(g_adj_list, i)        \n",
    "        \n",
    "        adjlist_elapsed = timeit.default_timer() - start_time\n",
    "        \n",
    "        start_time = timeit.default_timer()\n",
    "        \n",
    "        for _ in itertools.repeat(None, nsubrep):\n",
    "             for i in range(0, n):\n",
    "                enumerate_edge_list(g_edge_list, i)        \n",
    "        \n",
    "        edgelist_elapsed = timeit.default_timer() - start_time\n",
    "        \n",
    "        retlist.append([matrix_elapsed, adjlist_elapsed, edgelist_elapsed])\n",
    "\n",
    "        # average over replicates and then\n",
    "        # divide by n so that the running time results are on a per-vertex basis\n",
    "    return np.mean(np.array(retlist), axis=0)/n"
   ]
  },
  {
   "cell_type": "markdown",
   "metadata": {},
   "source": [
    "A simulation with 1000 vertices clearly shows that adjacency list is fastest:\n",
    "(I multiply by 1000 just so the results are in ms.)"
   ]
  },
  {
   "cell_type": "code",
   "execution_count": 23,
   "metadata": {
    "collapsed": false
   },
   "outputs": [
    {
     "data": {
      "text/plain": [
       "array([ 0.14328251,  0.00177659,  0.3966931 ])"
      ]
     },
     "execution_count": 23,
     "metadata": {},
     "output_type": "execute_result"
    }
   ],
   "source": [
    "do_sim(1000)*1000"
   ]
  },
  {
   "cell_type": "markdown",
   "metadata": {},
   "source": [
    "We see the expected behavior, with the running time for the adjacency-matrix and edge-list formats going up when we increase \"n\", but there is hardly any change in the running time for the graph stored in adjacency list format:"
   ]
  },
  {
   "cell_type": "code",
   "execution_count": 24,
   "metadata": {
    "collapsed": false
   },
   "outputs": [
    {
     "data": {
      "text/plain": [
       "array([ 0.20474197,  0.00181276,  0.53985972])"
      ]
     },
     "execution_count": 24,
     "metadata": {},
     "output_type": "execute_result"
    }
   ],
   "source": [
    "do_sim(2000)*1000"
   ]
  }
 ],
 "metadata": {
  "kernelspec": {
   "display_name": "Python 3",
   "language": "python",
   "name": "python3"
  },
  "language_info": {
   "codemirror_mode": {
    "name": "ipython",
    "version": 3
   },
   "file_extension": ".py",
   "mimetype": "text/x-python",
   "name": "python",
   "nbconvert_exporter": "python",
   "pygments_lexer": "ipython3",
   "version": "3.5.2"
  }
 },
 "nbformat": 4,
 "nbformat_minor": 1
}
