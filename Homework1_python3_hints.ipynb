{
 "cells": [
  {
   "cell_type": "markdown",
   "metadata": {},
   "source": [
    "# CS446/519 Homework 1"
   ]
  },
  {
   "cell_type": "code",
   "execution_count": null,
   "metadata": {
    "collapsed": true
   },
   "outputs": [],
   "source": [
    "## Problems for you to work on\n",
    "\n",
    "You have four problems to solve, each involving some analysis of the graph described by the edge-list\n",
    "file \"hsmetnet.txt\".\n",
    "\n",
    "(1) In this graph, each vertex is either a metabolite or a reaction. Each edge is an association of a metabolite with a reaction. \n",
    "\n",
    "- How many distinct metabolites are there in the graph? \n",
    "- How many reactions? \n",
    "- How many edges are there? \n",
    "- Calculate the degree $k = k_{in} + k_{out}$ of each of the metabolite vertices (you don’t need to calculate the degree for the vertices that correspond to reactions). \n",
    "- What are the top six metabolites in terms of vertex degree in the graph?\n",
    "\n",
    "(2) Plot the distribution of the degrees of these vertices, on log-log scale. \n",
    "\n",
    "- Is the degree distribution well-described by a power law? \n",
    "- Calculate the exponent α of the best-fit power-law $ p_k \\approx k^{-\\alpha}$. \n",
    "- How does the $\\alpha$ that you get compare to the estimate of the power-law exponent reported by Jeong et al. in their 2000 article in Nature, \"The large-scale organization of metabolic networks\" (vol. 407, pp. 651–654)? \n",
    "- Based on structure of the network that you analyzed (bipartite, containing reactions) vs. the structure of the network that they analyzed (network projected to a network containing only metabolites), is it appropriate to compare the exponents? Why or why not?\n",
    "\n",
    "(3) Calculate the shortest-path-length between all pairs of metabolites (vertices) in the directed graph. \n",
    "\n",
    "- Why are some of these path lengths infinite? \n",
    "- Calculate the average of the shortest-path-length between all pairs of metabolites in the giant (weakly connected) component of the network, by throwing away any shortest-paths distance value if it is infinite. \n",
    "- Calculate the maximum of the shortest-path-length between all pairs of metabolites (throwing away infinite values, as before) in the giant (weakly connected) component of the network (i.e., you are calculating the diameter of the giant component). Why are the distances that we get, roughly twice those reported in Jeong et al., 2000?\n",
    "\n",
    "(4) Calculate the shortest-paths betweenness centrality for all metabolites in the directed network. \n",
    "\n",
    "- Plot the scatter plot of betweenness centrality vs. vertex degree for all metabolites, on log-log scale. \n",
    "- Among metabolites with degree $k = 2$, what metabolite has highest betweenness centrality in the network? \n",
    "- Search on this metabolite in the HumanCyc database at biocyc.org/HUMAN, using the search box. You will see two proteins listed in the \"Proteins\" section of the search results; these are the enzymes that are immediately upstream and downstream of this metabolite in a metabolic pathway. Click on the first bullet-point link in the \"Proteins\" section to go to the Gene page for this enzyme. Read the Summary description. What important metabolic cycle is this enzyme involved in? What is the known consequence of a mutation in this gene, from a health standpoint?\n",
    "\n"
   ]
  },
  {
   "cell_type": "markdown",
   "metadata": {},
   "source": [
    "Read in the metabolic network as a directed bipartite graph (hint: use `read_csv` from `pandas`)"
   ]
  },
  {
   "cell_type": "code",
   "execution_count": 2,
   "metadata": {
    "collapsed": true
   },
   "outputs": [],
   "source": []
  },
  {
   "cell_type": "markdown",
   "metadata": {},
   "source": [
    "Get the names of all vertices and get a list of indexes of vertices that are metabolites (hint: use `Graph.TupleList` with `directed=True`; you can use  `.values.tolist()` on the Pandas dataframe"
   ]
  },
  {
   "cell_type": "code",
   "execution_count": 4,
   "metadata": {
    "collapsed": false
   },
   "outputs": [
    {
     "data": {
      "text/plain": [
       "'IGRAPH DN-- 7879 19708 -- \\n+ attr: name (v)'"
      ]
     },
     "execution_count": 4,
     "metadata": {},
     "output_type": "execute_result"
    }
   ],
   "source": []
  },
  {
   "cell_type": "markdown",
   "metadata": {},
   "source": [
    "How many distinct metabolites are there in the graph? How many reactions? How many edges are there? (hint: use `in`, `for`, `len`, `str`, `set`, and `shape`)"
   ]
  },
  {
   "cell_type": "code",
   "execution_count": 29,
   "metadata": {
    "collapsed": false
   },
   "outputs": [
    {
     "name": "stdout",
     "output_type": "stream",
     "text": [
      "number of distinct metabolites in the graph: 2340\n",
      "number of distinct reactions in the graph: 5539\n",
      "number of edges in the graph: 19708\n"
     ]
    }
   ],
   "source": []
  },
  {
   "cell_type": "markdown",
   "metadata": {},
   "source": [
    "What are the top six metabolites in terms of vertex degree in the graph? (hint: use `for`, `enumerate`, `sorted` (with `reverse=True`), and `lambda` or `itemgetter`)"
   ]
  },
  {
   "cell_type": "code",
   "execution_count": 70,
   "metadata": {
    "collapsed": false
   },
   "outputs": [
    {
     "data": {
      "text/plain": [
       "['ATP',\n",
       " 'ADP',\n",
       " 'phosphate',\n",
       " 'peptide',\n",
       " '[protein] (L-serine/L-threonine) phosphate',\n",
       " '[protein]-(L-serine/L-threonine)']"
      ]
     },
     "execution_count": 70,
     "metadata": {},
     "output_type": "execute_result"
    }
   ],
   "source": []
  },
  {
   "cell_type": "markdown",
   "metadata": {},
   "source": [
    "Plot the distribution of the degrees of these vertices, on log-log scale.  (hint: use `degree_distribution` in igraph, with `vertices=metabolite_inds`; use the `.bins()` method to get the bin counts out; you can use `pylab.plot` to plot)"
   ]
  },
  {
   "cell_type": "code",
   "execution_count": 90,
   "metadata": {
    "collapsed": false
   },
   "outputs": [
    {
     "data": {
      "image/png": "[encoded data removed]",
      "text/plain": [
       "<matplotlib.figure.Figure at 0x7f693bdabba8>"
      ]
     },
     "metadata": {},
     "output_type": "display_data"
    }
   ],
   "source": []
  },
  {
   "cell_type": "markdown",
   "metadata": {},
   "source": [
    "Calculate the exponent α of the best-fit power-law (hint: use `igraph.statistics.power_law_fit`)"
   ]
  },
  {
   "cell_type": "code",
   "execution_count": 89,
   "metadata": {
    "collapsed": false
   },
   "outputs": [
    {
     "data": {
      "text/plain": [
       "2.020246957603215"
      ]
     },
     "execution_count": 89,
     "metadata": {},
     "output_type": "execute_result"
    }
   ],
   "source": []
  },
  {
   "cell_type": "markdown",
   "metadata": {},
   "source": [
    "Calculate the shortest-path-length between all pairs of metabolites (vertices) in the giant weakly connected component of the graph, discarding direction information.  (hint: use `clusters` with `mode=weak` to get the giant weakly-connected component; then use `components.membership` and `enumerate` to get the giant component members; then use `igraph.shortest_distances` with `mode=igraph.ALL`, with\n",
    "`source=<metabolite_vertex_indices>` and `target=<metabolite_vertex_indices>` to get the\n",
    "all-pairs-shortest-paths.)"
   ]
  },
  {
   "cell_type": "code",
   "execution_count": 108,
   "metadata": {
    "collapsed": false
   },
   "outputs": [],
   "source": []
  },
  {
   "cell_type": "code",
   "execution_count": 124,
   "metadata": {
    "collapsed": false
   },
   "outputs": [],
   "source": []
  },
  {
   "cell_type": "markdown",
   "metadata": {},
   "source": [
    "Calculate the average of the shortest-path-length between all pairs of metabolites in the giant (weakly connected) component of the network, by throwing away any shortest-paths distance value if it is infinite. (hint: Use `numpy.array`, `numpy.isfinite` and `numpy.mean` to get the mean distance.)"
   ]
  },
  {
   "cell_type": "code",
   "execution_count": 130,
   "metadata": {
    "collapsed": false
   },
   "outputs": [
    {
     "data": {
      "text/plain": [
       "6.7992876630967602"
      ]
     },
     "execution_count": 130,
     "metadata": {},
     "output_type": "execute_result"
    }
   ],
   "source": []
  },
  {
   "cell_type": "markdown",
   "metadata": {},
   "source": [
    "Calculate the maximum of the shortest-path-length between all pairs of metabolites (throwing away infinite values, as before) in the giant (weakly connected) component of the network (i.e., you are calculating the diameter of the giant component). (hint: use `numpy.max` and `numpy.isfinite`)"
   ]
  },
  {
   "cell_type": "code",
   "execution_count": 131,
   "metadata": {
    "collapsed": false
   },
   "outputs": [
    {
     "data": {
      "text/plain": [
       "18"
      ]
     },
     "execution_count": 131,
     "metadata": {},
     "output_type": "execute_result"
    }
   ],
   "source": []
  },
  {
   "cell_type": "markdown",
   "metadata": {},
   "source": [
    "Calculate the shortest-paths betweenness centrality for all metabolites in the network. Make sure you are doing this on the directed graph (hint: use the `betweenness` function with the `v=<vector of vertex indices>` and `directed=True` options)"
   ]
  },
  {
   "cell_type": "code",
   "execution_count": 142,
   "metadata": {
    "collapsed": true
   },
   "outputs": [],
   "source": []
  },
  {
   "cell_type": "markdown",
   "metadata": {},
   "source": [
    "plot the scatter plot of betweenness centrality vs. vertex degree for all metabolites, on log-log scale. (hint:  use `numpy.array`, `numpy.where`, and `matplotlib.pyplot.scatter`)"
   ]
  },
  {
   "cell_type": "code",
   "execution_count": 147,
   "metadata": {
    "collapsed": false
   },
   "outputs": [
    {
     "data": {
      "image/png": "[encoded data removed]",
      "text/plain": [
       "<matplotlib.figure.Figure at 0x7f693bda5da0>"
      ]
     },
     "metadata": {},
     "output_type": "display_data"
    }
   ],
   "source": []
  },
  {
   "cell_type": "markdown",
   "metadata": {},
   "source": [
    "Among metabolites with degree k=2 , what metabolite has highest betweenness centrality in the network? (hint:  use `numpy.argmax` and `numpy.where`.  Output should be \"L-arginino-succinate\""
   ]
  },
  {
   "cell_type": "code",
   "execution_count": null,
   "metadata": {
    "collapsed": true
   },
   "outputs": [],
   "source": []
  }
 ],
 "metadata": {
  "kernelspec": {
   "display_name": "Python 3",
   "language": "python",
   "name": "python3"
  },
  "language_info": {
   "codemirror_mode": {
    "name": "ipython",
    "version": 3
   },
   "file_extension": ".py",
   "mimetype": "text/x-python",
   "name": "python",
   "nbconvert_exporter": "python",
   "pygments_lexer": "ipython3",
   "version": "3.5.2"
  }
 },
 "nbformat": 4,
 "nbformat_minor": 1
}
