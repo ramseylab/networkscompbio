{
 "cells": [
  {
   "cell_type": "markdown",
   "metadata": {},
   "source": [
    "1. Print the first six lines of the interaction datafile within the python/R session\n",
    "2. Compute the frequencies of interaction types in the database, print in order of decreasing frequency\n",
    "3. Compute the total number of protein-protein interactions in the database\n",
    "4. Compute the total number of proteins that participate in protein-protein interactions\n",
    "5. Compute the number of unique protein-protein interactions (undirected)\n",
    "6. Optional: make it more interesting: do not use the file system for saving the SIF file or compressed SIF file\n",
    "\n",
    "For protein-protein interactions: “interacts-with”, “neighbor-of”, and “in-complex-with”"
   ]
  },
  {
   "cell_type": "code",
   "execution_count": 8,
   "metadata": {
    "collapsed": false
   },
   "outputs": [
    {
     "name": "stdout",
     "output_type": "stream",
     "text": [
      "b'A1BG\\tcontrols-expression-of\\tA2M\\n'\n",
      "b'A1BG\\tinteracts-with\\tABCC6\\n'\n",
      "b'A1BG\\tcontrols-phosphorylation-of\\tAKT1\\n'\n",
      "b'A1BG\\tcontrols-state-change-of\\tAKT1\\n'\n",
      "b'A1BG\\tinteracts-with\\tANXA7\\n'\n",
      "b'A1BG\\tinteracts-with\\tCDKN1A\\n'\n",
      "5.516805504099466\n"
     ]
    }
   ],
   "source": [
    "from urllib.request import urlopen\n",
    "import gzip\n",
    "import timeit\n",
    "\n",
    "baseURL = \"http://www.pathwaycommons.org/archives/PC2/current/\"\n",
    "filename = \"PathwayCommons.8.All.BINARY_SIF.hgnc.txt.sif.gz\"\n",
    "outFilePath = \"pc.sif\"\n",
    "interaction_types_ppi = set([\"interacts-with\",\"in-complex-with\",\"neighbor-of\"])\n",
    "\n",
    "start_time = timeit.default_timer()\n",
    "\n",
    "zfd = urlopen(baseURL + filename)\n",
    "fd = gzip.GzipFile(fileobj=zfd, mode=\"r\")\n",
    "\n",
    "# initialize the SIF file interaction counter\n",
    "intctr = 0\n",
    "linectr = 0\n",
    "from collections import defaultdict\n",
    "\n",
    "interactions = set()\n",
    "proteins = set()\n",
    "intnamectr = defaultdict(int)\n",
    "\n",
    "for line in fd:\n",
    "    if linectr < 6:\n",
    "        print(line)\n",
    "        \n",
    "    linectr += 1\n",
    "    \n",
    "    [prot1, interaction_type, prot2] = line.decode(\"utf-8\").rstrip(\"\\n\").split(\"\\t\")\n",
    "    intnamectr[interaction_type] += 1\n",
    "    if interaction_type in interaction_types_ppi:\n",
    "        intctr += 1\n",
    "        proteins |= set([prot1, prot2])\n",
    "        interactions.add(min(prot1, prot2) + \"-\" + max(prot1, prot2))       \n",
    "        \n",
    "elapsed = timeit.default_timer() - start_time\n",
    "\n",
    "print(elapsed)"
   ]
  },
  {
   "cell_type": "code",
   "execution_count": 10,
   "metadata": {
    "collapsed": false
   },
   "outputs": [
    {
     "name": "stdout",
     "output_type": "stream",
     "text": [
      "523498\n"
     ]
    }
   ],
   "source": [
    "print(intctr)"
   ]
  },
  {
   "cell_type": "code",
   "execution_count": 11,
   "metadata": {
    "collapsed": false
   },
   "outputs": [
    {
     "data": {
      "text/plain": [
       "17020"
      ]
     },
     "execution_count": 11,
     "metadata": {},
     "output_type": "execute_result"
    }
   ],
   "source": [
    "len(proteins)"
   ]
  },
  {
   "cell_type": "code",
   "execution_count": 12,
   "metadata": {
    "collapsed": false
   },
   "outputs": [
    {
     "data": {
      "text/plain": [
       "491784"
      ]
     },
     "execution_count": 12,
     "metadata": {},
     "output_type": "execute_result"
    }
   ],
   "source": [
    "len(interactions)"
   ]
  },
  {
   "cell_type": "code",
   "execution_count": 13,
   "metadata": {
    "collapsed": false
   },
   "outputs": [
    {
     "data": {
      "text/plain": [
       "[('interacts-with', 369895),\n",
       " ('in-complex-with', 153603),\n",
       " ('chemical-affects', 135268),\n",
       " ('catalysis-precedes', 120948),\n",
       " ('controls-expression-of', 110013),\n",
       " ('controls-state-change-of', 106156),\n",
       " ('controls-production-of', 18482),\n",
       " ('consumption-controlled-by', 16816),\n",
       " ('controls-phosphorylation-of', 15636),\n",
       " ('used-to-produce', 13705),\n",
       " ('controls-transport-of', 6960),\n",
       " ('reacts-with', 3607),\n",
       " ('controls-transport-of-chemical', 2847)]"
      ]
     },
     "execution_count": 13,
     "metadata": {},
     "output_type": "execute_result"
    }
   ],
   "source": [
    "from operator import itemgetter\n",
    "sorted(intnamectr.items(), key=itemgetter(1), reverse=True)"
   ]
  },
  {
   "cell_type": "code",
   "execution_count": 71,
   "metadata": {
    "collapsed": false
   },
   "outputs": [],
   "source": [
    "import pandas\n",
    "zfd = urlopen(baseURL + filename)\n",
    "fd = gzip.GzipFile(fileobj=zfd, mode=\"r\")\n",
    "df = pandas.read_csv(fd, sep=\"\\t\", names=[\"species1\",\"interaction_type\",\"species2\"])"
   ]
  },
  {
   "cell_type": "code",
   "execution_count": 54,
   "metadata": {
    "collapsed": false
   },
   "outputs": [
    {
     "name": "stdout",
     "output_type": "stream",
     "text": [
      "  species1             interaction_type species2\n",
      "0     A1BG       controls-expression-of      A2M\n",
      "1     A1BG               interacts-with    ABCC6\n",
      "2     A1BG  controls-phosphorylation-of     AKT1\n",
      "3     A1BG     controls-state-change-of     AKT1\n",
      "4     A1BG               interacts-with    ANXA7\n",
      "1073936\n"
     ]
    }
   ],
   "source": [
    "print(df.head())\n",
    "print(df.shape[0])"
   ]
  },
  {
   "cell_type": "code",
   "execution_count": 24,
   "metadata": {
    "collapsed": false
   },
   "outputs": [
    {
     "data": {
      "text/plain": [
       "array(['controls-expression-of', 'interacts-with',\n",
       "       'controls-phosphorylation-of', 'controls-state-change-of',\n",
       "       'in-complex-with', 'catalysis-precedes', 'controls-production-of',\n",
       "       'controls-transport-of', 'controls-transport-of-chemical',\n",
       "       'chemical-affects', 'consumption-controlled-by', 'reacts-with',\n",
       "       'used-to-produce'], dtype=object)"
      ]
     },
     "execution_count": 24,
     "metadata": {},
     "output_type": "execute_result"
    }
   ],
   "source": [
    "df.interaction_type.unique()"
   ]
  },
  {
   "cell_type": "code",
   "execution_count": 63,
   "metadata": {
    "collapsed": false
   },
   "outputs": [
    {
     "data": {
      "text/plain": [
       "523498"
      ]
     },
     "execution_count": 63,
     "metadata": {},
     "output_type": "execute_result"
    }
   ],
   "source": [
    "ppirows = df.interaction_type.isin(interaction_types_ppi)\n",
    "sum(ppirows)"
   ]
  },
  {
   "cell_type": "code",
   "execution_count": 64,
   "metadata": {
    "collapsed": false
   },
   "outputs": [
    {
     "data": {
      "text/plain": [
       "17020"
      ]
     },
     "execution_count": 64,
     "metadata": {},
     "output_type": "execute_result"
    }
   ],
   "source": [
    "newlist = df[\"species1\"][ppirows].tolist() + df[\"species2\"][ppirows].tolist()\n",
    "len(set(newlist))"
   ]
  },
  {
   "cell_type": "code",
   "execution_count": 68,
   "metadata": {
    "collapsed": false
   },
   "outputs": [
    {
     "data": {
      "text/plain": [
       "491784"
      ]
     },
     "execution_count": 68,
     "metadata": {},
     "output_type": "execute_result"
    }
   ],
   "source": [
    "len(set(df[\"species1\"][ppirows] + \"-\" + df[\"species2\"][ppirows]))"
   ]
  },
  {
   "cell_type": "code",
   "execution_count": 70,
   "metadata": {
    "collapsed": false
   },
   "outputs": [
    {
     "data": {
      "text/plain": [
       "interacts-with                    369895\n",
       "in-complex-with                   153603\n",
       "chemical-affects                  135268\n",
       "catalysis-precedes                120948\n",
       "controls-expression-of            110013\n",
       "controls-state-change-of          106156\n",
       "controls-production-of             18482\n",
       "consumption-controlled-by          16816\n",
       "controls-phosphorylation-of        15636\n",
       "used-to-produce                    13705\n",
       "controls-transport-of               6960\n",
       "reacts-with                         3607\n",
       "controls-transport-of-chemical      2847\n",
       "Name: interaction_type, dtype: int64"
      ]
     },
     "execution_count": 70,
     "metadata": {},
     "output_type": "execute_result"
    }
   ],
   "source": [
    "df[\"interaction_type\"].value_counts()"
   ]
  },
  {
   "cell_type": "code",
   "execution_count": null,
   "metadata": {
    "collapsed": true
   },
   "outputs": [],
   "source": []
  }
 ],
 "metadata": {
  "kernelspec": {
   "display_name": "Python 3",
   "language": "python",
   "name": "python3"
  },
  "language_info": {
   "codemirror_mode": {
    "name": "ipython",
    "version": 3
   },
   "file_extension": ".py",
   "mimetype": "text/x-python",
   "name": "python",
   "nbconvert_exporter": "python",
   "pygments_lexer": "ipython3",
   "version": "3.5.2"
  }
 },
 "nbformat": 4,
 "nbformat_minor": 1
}
