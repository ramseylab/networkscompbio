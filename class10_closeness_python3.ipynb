{
 "cells": [
  {
   "cell_type": "markdown",
   "metadata": {},
   "source": [
    "# CS446/519 - Class Session 10 - Closeness centrality\n",
    "\n",
    "In this class session we are going to scatter plot the harmonic-mean closeness centralities\n",
    "of the vertices in the gene regulatory network (from Pathway Commons) with the degree centralities."
   ]
  },
  {
   "cell_type": "markdown",
   "metadata": {},
   "source": [
    "## Closeness Centrality\n",
    "\n",
    "Closeness centrality measures the mean distance from a vertex to other vertices.\n",
    "\n",
    "A geodesic path is the shortest path between 2 vertices. Suppose $d_{ij}$ is the length of a geodesic path from vertex $i$ to $j$.\n",
    "\n",
    "Mean geodesic distance of vertex $i$: $\\ell_i = \\frac{1}{n}\\sum_j d_{ij}$\n",
    "\n",
    "有些场合里会排除掉 $d_ii$，从而得到 $\\ell_i = \\frac{1}{n - 1}\\sum_{j \\neq i} d_{ij}$，但本质不影响，随便用哪个公式都行。书上用的是前面那个\n",
    "\n",
    "Closeness Centrality $C_i = \\frac{1}{\\ell_i} = \\frac{n}{\\sum_j d_{ij}}$\n",
    "\n",
    "Harmonic mean: 与一般的 mean = $\\frac{\\sum \\limits_{i=1}^{n} x_i}{n}$ 不同，harmonic mean = $\\frac{n}{\\frac{1}{x_{1}} + \\frac {1}{x_{2}} + \\cdots + \\frac{1}{x_{n}}} = \\frac{n}{\\sum \\limits _{i=1}^{n} \\frac{1}{x_{i}}}$\n",
    "\n",
    "从 harmonic mean 出发，我们也可以定义 $C_i^{\\prime} = \\frac{1}{\\ell_i} = \\frac{1}{n-1} \\sum_{j \\neq i} \\frac{1}{d_{ij}}$，但这个定义很少使用。\n",
    "\n",
    "Mean geodesic distance between all pairs of vertices (in one component): $\\ell = \\frac{1}{n^2}\\sum_{i,j} d_{ij} = \\frac{1}{n} \\sum_i \\ell_i$\n",
    "\n",
    "多个 components 的情况待补充\n",
    "\n",
    "## Groups of vertices\n",
    "\n",
    "clique: fully connected\n",
    "\n",
    "- 注意 $k$-clique 并不是 clique\n",
    "- $k$-clique 只要求任意两点有 path 且长度 $\\leq k$\n",
    "- $1$-clique $\\iff$ clique\n",
    "\n",
    "Less stringently, A $k$-plex of size $n$ is a maximal connected subgraph of $n$ vertices in $G$  such that each vertex is connected to at least $n-k$ vertices.\n",
    "\n",
    "- $1$-plex $\\iff$ clique\n",
    "- 注意是 at least $n-k$，所以 $1$-plex 一定是 $2$-plex，依此类推\n",
    "\n",
    "A $k$-core of a graph $G$ is a maximal connected subgraph of $G$ in which all vertices have degree at least $k$\n",
    "\n",
    "- A $k$-core of $n$ vertices is also an $(n-k)$-plex\n",
    "\n",
    "$k$-component: 待整理"
   ]
  },
  {
   "cell_type": "markdown",
   "metadata": {},
   "source": [
    "Load in the SIF file for Pathway Commons"
   ]
  },
  {
   "cell_type": "code",
   "execution_count": 6,
   "metadata": {
    "collapsed": true
   },
   "outputs": [],
   "source": [
    "import pandas\n",
    "sif_data = pandas.read_csv(\"shared/pathway_commons.sif\",\n",
    "                           sep=\"\\t\", names=[\"species1\",\"interaction_type\",\"species2\"])"
   ]
  },
  {
   "cell_type": "markdown",
   "metadata": {},
   "source": [
    "Restrict the rows of the dataframe to \"controls-expression-of\", and eliminate redundant edges in the edge-list. Note that this is a directed graph, so A->B and B->A are separate edges."
   ]
  },
  {
   "cell_type": "code",
   "execution_count": 7,
   "metadata": {
    "collapsed": true
   },
   "outputs": [],
   "source": [
    "interac_grn = sif_data[sif_data.interaction_type == \"controls-expression-of\"]\n",
    "interac_grn_unique = interac_grn[[\"species1\",\"species2\"]].drop_duplicates()"
   ]
  },
  {
   "cell_type": "markdown",
   "metadata": {},
   "source": [
    "Create a directed graph in igraph, from the dataframe edge-list, using `Graph.TupleList`"
   ]
  },
  {
   "cell_type": "code",
   "execution_count": 8,
   "metadata": {
    "collapsed": false
   },
   "outputs": [
    {
     "data": {
      "text/plain": [
       "'IGRAPH DN-- 14208 110013 -- \\n+ attr: name (v)'"
      ]
     },
     "execution_count": 8,
     "metadata": {},
     "output_type": "execute_result"
    }
   ],
   "source": [
    "import igraph\n",
    "from igraph import Graph\n",
    "grn_igraph = Graph.TupleList(interac_grn_unique.values.tolist(), directed=True)\n",
    "grn_igraph.summary()"
   ]
  },
  {
   "cell_type": "markdown",
   "metadata": {},
   "source": [
    "For one vertex at a time, compute that vertex's harmonic mean closeness centrality using Eq. 7.30 from Newman's book. Don't forget to eliminate the \"0\" distance between a vertex and itself, in the results you get back from calling `shortest_paths`.  VERY IMPORTANT: make sure you specify a single source vertex to the `shortest_paths` function!  Just for information purposes, measure how long the code takes to run in seconds. Make sure to pass `mode=igraph.ALL` to `shortest_paths`, which will find paths regardless of edge direction."
   ]
  },
  {
   "cell_type": "code",
   "execution_count": 15,
   "metadata": {
    "collapsed": false
   },
   "outputs": [
    {
     "name": "stdout",
     "output_type": "stream",
     "text": [
      "135.5354469390586\n"
     ]
    }
   ],
   "source": [
    "import numpy\n",
    "import timeit\n",
    "N = len(grn_igraph.vs)\n",
    "closeness_centralities = numpy.zeros(N)\n",
    "ctr = 0\n",
    "start_time = timeit.default_timer()\n",
    "for my_vertex in grn_igraph.vs:\n",
    "    my_dists = numpy.array(my_vertex.shortest_paths(mode=igraph.ALL))\n",
    "    my_dists = my_dists[numpy.isfinite(my_dists) & (my_dists > 0)]\n",
    "    if len(my_dists) > 0:\n",
    "        closeness_centralities[ctr] = numpy.sum(1/my_dists)/(N-1)\n",
    "    ctr += 1\n",
    "ci_elapsed = timeit.default_timer() - start_time\n",
    "print(ci_elapsed)"
   ]
  },
  {
   "cell_type": "markdown",
   "metadata": {},
   "source": [
    "Histogram the harmonic-mean closeness centralities"
   ]
  },
  {
   "cell_type": "code",
   "execution_count": 77,
   "metadata": {
    "collapsed": false
   },
   "outputs": [
    {
     "data": {
      "image/png": "[encoded data removed]",
      "text/plain": [
       "<matplotlib.figure.Figure at 0x7fca59cc0198>"
      ]
     },
     "metadata": {},
     "output_type": "display_data"
    }
   ],
   "source": [
    "import matplotlib.pyplot\n",
    "matplotlib.pyplot.hist(closeness_centralities)\n",
    "matplotlib.pyplot.xlabel(\"Ci\")\n",
    "matplotlib.pyplot.ylabel(\"Frequency\")\n",
    "matplotlib.pyplot.show()"
   ]
  },
  {
   "cell_type": "markdown",
   "metadata": {},
   "source": [
    "Scatter plot the harmonic-mean closeness centralities vs. the log10 degree"
   ]
  },
  {
   "cell_type": "code",
   "execution_count": 88,
   "metadata": {
    "collapsed": false
   },
   "outputs": [
    {
     "data": {
      "image/png": "[encoded data removed]",
      "text/plain": [
       "<matplotlib.figure.Figure at 0x7fca59d48748>"
      ]
     },
     "metadata": {},
     "output_type": "display_data"
    }
   ],
   "source": [
    "ax = matplotlib.pyplot.gca()\n",
    "ax.scatter(grn_igraph.degree(), closeness_centralities)\n",
    "ax.set_xscale(\"log\")\n",
    "matplotlib.pyplot.xlabel(\"degree\")\n",
    "matplotlib.pyplot.ylabel(\"closeness\")\n",
    "matplotlib.pyplot.show()"
   ]
  },
  {
   "cell_type": "markdown",
   "metadata": {},
   "source": [
    "which protein has the highest closeness centrality in the network?"
   ]
  },
  {
   "cell_type": "code",
   "execution_count": 91,
   "metadata": {
    "collapsed": false
   },
   "outputs": [
    {
     "name": "stdout",
     "output_type": "stream",
     "text": [
      "0.707169001197\n"
     ]
    },
    {
     "data": {
      "text/plain": [
       "igraph.Vertex(<igraph.Graph object at 0x7fca66fe3d68>, 169, {'name': 'CYP26A1'})"
      ]
     },
     "execution_count": 91,
     "metadata": {},
     "output_type": "execute_result"
    }
   ],
   "source": [
    "print(numpy.max(closeness_centralities))\n",
    "grn_igraph.vs[numpy.argmax(closeness_centralities)]"
   ]
  }
 ],
 "metadata": {
  "kernelspec": {
   "display_name": "Python 3",
   "language": "python",
   "name": "python3"
  },
  "language_info": {
   "codemirror_mode": {
    "name": "ipython",
    "version": 3
   },
   "file_extension": ".py",
   "mimetype": "text/x-python",
   "name": "python",
   "nbconvert_exporter": "python",
   "pygments_lexer": "ipython3",
   "version": "3.5.2"
  }
 },
 "nbformat": 4,
 "nbformat_minor": 1
}
