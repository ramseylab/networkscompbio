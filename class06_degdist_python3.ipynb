{
 "cells": [
  {
   "cell_type": "markdown",
   "metadata": {},
   "source": [
    "# CS446/519 - Class Session 6 - Degree Distribution\n",
    "\n",
    "In this class session we are going to plot the degree distribution of the undirected human\n",
    "protein-protein interaction network (PPI), without using `igraph`. We'll obtain the interaction data from the Pathway Commons SIF file (in the `shared/` folder) and we'll \n",
    "manually compute the degree of each vertex (protein) in the network. We'll then compute\n",
    "the count `N(k)` of vertices that have a given vertex degree `k`, for all `k` values.\n",
    "Finally, we'll plot the degree distribution and discuss whether it is consistent with the \n",
    "results obtained in the Jeong et al. article for the yeast PPI."
   ]
  },
  {
   "cell_type": "markdown",
   "metadata": {},
   "source": [
    "Let $p_k$ be the fraction of vertices in $G$ that have degree $k$, i.e. in $G$ there would be $p_k \\times n$ vertices with degree $k$.\n",
    "\n",
    "Degree sequence $\\lbrace k_1, \\dots, k_n \\rbrace$"
   ]
  },
  {
   "cell_type": "markdown",
   "metadata": {},
   "source": [
    "## New Assignment: calculate degree distribution of the human PPI\n",
    "\n",
    "0. Make a hypothesis: do you think the human PPI will be \"scale free\"?\n",
    "1. Select only the `interacts-with` and `in-complex-with` rows of `shared/pathway_commons.sif`\n",
    "2. Eliminate redundant interactions from the dataset\n",
    "    - these would all be redundant, for this purpose:\n",
    "        - A interacts-with B\n",
    "        - B interacts-with A\n",
    "        - A in-complex-with B\n",
    "3. Count how many times each protein symbol appears in any interaction \n",
    "    - it is OK if an interaction like this gets counted twice:\n",
    "        - A interacts-with A\n",
    "that is basically computing the vertex degree k for each protein\n",
    "4. Obtain a histogram of counts of $k$ values in about 30 equally spaced bins from 1 to the maximum $k$ value\n",
    "5. Call the $k$ value at the center of each bin, $k_{bin}$, and the count of proteins whose $k$ values are in that\n",
    "bin, $N(k_{bin})$.\n",
    "6. Plot the relationship between $N(k_{bin})$ and $k_{bin}$, on a log-log scatter plot.\n",
    "7. Do a linear regression to the points on the plot in the \"linear range\" for small $k_{bin}$, which should be the first five points or so. The negative of the slope gives you the \"scaling exponent\" gamma.\n",
    "8. Compare the gamma that you got for the human PPI to the gamma for the yeast PPI.\n"
   ]
  },
  {
   "cell_type": "code",
   "execution_count": 1,
   "metadata": {
    "collapsed": false
   },
   "outputs": [],
   "source": [
    "import pandas\n",
    "import collections\n",
    "import matplotlib.pyplot as plt\n",
    "import numpy as np\n",
    "import scipy.stats"
   ]
  },
  {
   "cell_type": "markdown",
   "metadata": {},
   "source": [
    "Step 1:  load in the SIF file"
   ]
  },
  {
   "cell_type": "code",
   "execution_count": 2,
   "metadata": {
    "collapsed": false
   },
   "outputs": [],
   "source": [
    "sif_data = pandas.read_csv(\"shared/pathway_commons.sif\",\n",
    "                            sep=\"\\t\", names=[\"species1\", \"interaction_type\", \"species2\"])"
   ]
  },
  {
   "cell_type": "markdown",
   "metadata": {},
   "source": [
    "Step 2:  restrict the interactions to protein-protein undirected (\"in-complex-with\", \"interacts-with\")"
   ]
  },
  {
   "cell_type": "code",
   "execution_count": 3,
   "metadata": {
    "collapsed": true
   },
   "outputs": [],
   "source": [
    "interaction_types_ppi = set([\"interacts-with\",\n",
    "                             \"in-complex-with\"])\n",
    "interac_ppi = sif_data[sif_data.interaction_type.isin(interaction_types_ppi)]"
   ]
  },
  {
   "cell_type": "markdown",
   "metadata": {},
   "source": [
    "Step 3: for each interaction, reorder `species1` and `species2` (if necessary) so that\n",
    "`species1 < species2` (in terms of the species names, in lexicographic order)"
   ]
  },
  {
   "cell_type": "code",
   "execution_count": 4,
   "metadata": {
    "collapsed": false
   },
   "outputs": [],
   "source": [
    "for i in range(0, interac_ppi.shape[0]):\n",
    "    if interac_ppi.iat[i,0] > interac_ppi.iat[i,2]:\n",
    "        temp_name = interac_ppi.iat[i,0]\n",
    "        interac_ppi.set_value(i, 'species1', interac_ppi.iat[i,2])\n",
    "        interac_ppi.set_value(i, 'species2', temp_name)"
   ]
  },
  {
   "cell_type": "markdown",
   "metadata": {},
   "source": [
    "Step 4: get only the unique interaction pairs of proteins (ignoring the interaction type)"
   ]
  },
  {
   "cell_type": "code",
   "execution_count": 5,
   "metadata": {
    "collapsed": false
   },
   "outputs": [],
   "source": [
    "interac_ppi_unique = interac_ppi[[\"species1\",\"species2\"]].drop_duplicates()"
   ]
  },
  {
   "cell_type": "markdown",
   "metadata": {},
   "source": [
    "Step 5: compute the degree of each vertex (though we will not associate the vertex degrees with vertex names here, since for this exercise we only need the vector of vertex degree values, not the associated vertex IDs)"
   ]
  },
  {
   "cell_type": "code",
   "execution_count": 6,
   "metadata": {
    "collapsed": false
   },
   "outputs": [],
   "source": [
    "vertex_degrees_ctr = collections.Counter()\n",
    "allproteins = interac_ppi_unique[\"species1\"].tolist() + interac_ppi_unique[\"species2\"].tolist()\n",
    "for proteinname in allproteins:\n",
    "    vertex_degrees_ctr.update([proteinname])\n",
    "vertex_degrees = list(vertex_degrees_ctr.values())"
   ]
  },
  {
   "cell_type": "markdown",
   "metadata": {},
   "source": [
    "Step 6: Calculate the histogram of N(k) vs. k, \"suggesting\" 30 bin \"breaks\" (i.e., bin edges) to R; `hist` will actually pick a different number of bins based on its own histogramming algorithm, so we'll find out exactly how many bin breaks that `hist` picked and then we'll call it `nbreaks_actual`, and we'll work with that. "
   ]
  },
  {
   "cell_type": "markdown",
   "metadata": {},
   "source": [
    "- `breaks`: the cutoff points for the bins. 你记忆成 \"breakpoints\" 就好了\n",
    "    - 所以 $n+1$ 个 breaks 确定 $n$ 个 bins\n",
    "    - 注意 R 里 `hist(breaks=20)` 表示自行根据数据定 20 个 breaks，也就是 19 个 bins\n",
    "    - `hist(breaks=c(17,20,23,26,29))` 这样写才是自己指定具体的 break 值\n",
    "- `counts`: count of examples in each bin. 也就是每个 bin 的高度"
   ]
  },
  {
   "cell_type": "code",
   "execution_count": 7,
   "metadata": {
    "collapsed": false,
    "scrolled": true
   },
   "outputs": [],
   "source": [
    "nbins=30\n",
    "hist_res = plt.hist(np.array(vertex_degrees), bins=nbins)\n",
    "hist_counts = hist_res[0]\n",
    "hist_breaks = hist_res[1]\n",
    "hist_breaks_np = np.array(hist_breaks)\n",
    "# 取每一对 breaks 的中间值\n",
    "kvals = 0.5*(hist_breaks_np[0:(nbins-1)]+hist_breaks_np[1:nbins])"
   ]
  },
  {
   "cell_type": "markdown",
   "metadata": {},
   "source": [
    "Step 7: Plot `N(k)` vs. `k`, on log-log scale (using only the first 14 points, which is plenty sufficient to see the approximatey scale-free degree distribution and where it becomes exponentially suppressed at high `k`."
   ]
  },
  {
   "cell_type": "code",
   "execution_count": 8,
   "metadata": {
    "collapsed": false
   },
   "outputs": [
    {
     "data": {
      "image/png": "[encoded data removed]",
      "text/plain": [
       "<matplotlib.figure.Figure at 0x7f9a822b0358>"
      ]
     },
     "metadata": {},
     "output_type": "display_data"
    }
   ],
   "source": [
    "plt.loglog(kvals[1:14],\n",
    "           hist_counts[1:14], \"o\")\n",
    "plt.xlabel(\"k\")\n",
    "plt.ylabel(\"N(k)\")\n",
    "plt.show()"
   ]
  },
  {
   "cell_type": "markdown",
   "metadata": {},
   "source": [
    "Step 8:  Do a linear fit to the log10(N(k)) vs. log10(k) data (just over the range in which the relationship appears to be linear, which is the first five poitns)"
   ]
  },
  {
   "cell_type": "code",
   "execution_count": 9,
   "metadata": {
    "collapsed": false
   },
   "outputs": [
    {
     "data": {
      "text/plain": [
       "LinregressResult(slope=-2.2944987277792217, intercept=8.2831047942938802, rvalue=-0.99958387470184684, pvalue=0.00041612529815315819, stderr=0.046820436096395121)"
      ]
     },
     "execution_count": 9,
     "metadata": {},
     "output_type": "execute_result"
    }
   ],
   "source": [
    "scipy.stats.linregress(np.log10(kvals[0:4]), np.log10(hist_counts[0:4]))"
   ]
  },
  {
   "cell_type": "markdown",
   "metadata": {},
   "source": [
    "Slope is -2.3 with SE 0.05, i.e., gamma = 2.3 with a 95% CI of about +/- 0.1.\n",
    "\n",
    "Now let's compute the slope for the degree distribution Fig. 1b in the Jeong et al. article, for the yeast PPI.  The change in ordinate over the linear range is about -6.5 in units of natural logarithm. The change in abscissa over the linear range is approximately log(45)-log(2), so we can compute the Jeong et al. slope thus:"
   ]
  },
  {
   "cell_type": "code",
   "execution_count": 117,
   "metadata": {
    "collapsed": false
   },
   "outputs": [
    {
     "name": "stdout",
     "output_type": "stream",
     "text": [
      "-2.09\n"
     ]
    }
   ],
   "source": [
    "jeong_slope = -6.5/(np.log(45)-np.log(2))\n",
    "print(\"%.2f\" % jeong_slope)"
   ]
  },
  {
   "cell_type": "markdown",
   "metadata": {},
   "source": [
    "That's pretty close to the human PPI slope!"
   ]
  }
 ],
 "metadata": {
  "kernelspec": {
   "display_name": "Python 3",
   "language": "python",
   "name": "python3"
  },
  "language_info": {
   "codemirror_mode": {
    "name": "ipython",
    "version": 3
   },
   "file_extension": ".py",
   "mimetype": "text/x-python",
   "name": "python",
   "nbconvert_exporter": "python",
   "pygments_lexer": "ipython3",
   "version": "3.5.2"
  }
 },
 "nbformat": 4,
 "nbformat_minor": 1
}
