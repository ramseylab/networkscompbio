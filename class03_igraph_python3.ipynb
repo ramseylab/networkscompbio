{
 "cells": [
  {
   "cell_type": "markdown",
   "metadata": {},
   "source": [
    "## Review\n",
    "\n",
    "5 types of biological networks:\n",
    "\n",
    "- protein physical interaction: undirected\n",
    "- enzyme-substrate interaction\n",
    "    - protein-protein: directed\n",
    "    - protein-metabolite: directed\n",
    "- protein-DNA interaction: directed\n",
    "- genetic networks: directed (in general); see [BioGRID](thebiogrid.org)\n",
    "\n",
    "Biological networks that could have self-edges:\n",
    "\n",
    "- Protein homodimer (in PPI)\n",
    "- An \"autoregulated\" gene (in genetic networks)\n",
    "\n",
    "Biological networks that could have cycles:\n",
    "\n",
    "- cell signaling\n",
    "- metabolism\n",
    "- PPI\n",
    "\n",
    "DAGs in biology networks:\n",
    "\n",
    "- Gene Ontology\n",
    "- Bayesian network\n",
    "\n",
    "## Exercise\n",
    "\n",
    "1. Load “shared/pathway_commons.sif”\n",
    "2. Make three sets of interaction names:\n",
    "    - PPI: \"interacts-with\", \"in-complex-with\", \"neighbor-of\"\n",
    "    - metab: \"controls-production-of\", \"consumption-controlled-by\", \"controls-production-of\", \"controls-transport-of-chemical\"\n",
    "    - PPD: \"catalysis-precedes\", \"controls-phosphorylation-of\", \"controls-state-change-of\", \"controls-transport-of\", \"controls-expression-of\"\n",
    "3. Make three igraph “Graph” objects (one for each class of interactions); undirected for PPI, and directed for metab and PPD.\n",
    "\n",
    "Our hypothesis: PPI interactions would be most common types of interactions in Pathway Commons\n",
    "\n",
    "## Hints\n",
    "\n",
    "R:\n",
    "\n",
    "- load the igraph package using: `library(igraph)`\n",
    "- use the function: `graph_from_data_frame`\n",
    "- print summary data using the `print` function on the graph object\n",
    "\n",
    "python3:\n",
    "\n",
    "- load the `pandas` package\n",
    "- load the `Graph` and `summary` items from the `igraph` package\n",
    "- make a \"list of lists\" for each of the three networks: `[[\"prot1\", \"prot2\"],....]` by subsetting columns and then using `values.tolist()`\n",
    "- pass a \"list of lists\" to `Graph.TupleList`\n",
    "- use `summary` to display the graph summary statistics\n"
   ]
  },
  {
   "cell_type": "code",
   "execution_count": 3,
   "metadata": {
    "collapsed": false
   },
   "outputs": [
    {
     "data": {
      "text/html": [
       "<div>\n",
       "<table border=\"1\" class=\"dataframe\">\n",
       "  <thead>\n",
       "    <tr style=\"text-align: right;\">\n",
       "      <th></th>\n",
       "      <th>species1</th>\n",
       "      <th>interaction_type</th>\n",
       "      <th>species2</th>\n",
       "    </tr>\n",
       "  </thead>\n",
       "  <tbody>\n",
       "    <tr>\n",
       "      <th>0</th>\n",
       "      <td>A1BG</td>\n",
       "      <td>controls-expression-of</td>\n",
       "      <td>A2M</td>\n",
       "    </tr>\n",
       "    <tr>\n",
       "      <th>1</th>\n",
       "      <td>A1BG</td>\n",
       "      <td>interacts-with</td>\n",
       "      <td>ABCC6</td>\n",
       "    </tr>\n",
       "    <tr>\n",
       "      <th>2</th>\n",
       "      <td>A1BG</td>\n",
       "      <td>controls-phosphorylation-of</td>\n",
       "      <td>AKT1</td>\n",
       "    </tr>\n",
       "    <tr>\n",
       "      <th>3</th>\n",
       "      <td>A1BG</td>\n",
       "      <td>controls-state-change-of</td>\n",
       "      <td>AKT1</td>\n",
       "    </tr>\n",
       "    <tr>\n",
       "      <th>4</th>\n",
       "      <td>A1BG</td>\n",
       "      <td>interacts-with</td>\n",
       "      <td>ANXA7</td>\n",
       "    </tr>\n",
       "  </tbody>\n",
       "</table>\n",
       "</div>"
      ],
      "text/plain": [
       "  species1             interaction_type species2\n",
       "0     A1BG       controls-expression-of      A2M\n",
       "1     A1BG               interacts-with    ABCC6\n",
       "2     A1BG  controls-phosphorylation-of     AKT1\n",
       "3     A1BG     controls-state-change-of     AKT1\n",
       "4     A1BG               interacts-with    ANXA7"
      ]
     },
     "execution_count": 3,
     "metadata": {},
     "output_type": "execute_result"
    }
   ],
   "source": [
    "import pandas\n",
    "df = pandas.read_csv(\"shared/pathway_commons.sif\", \n",
    "                     sep=\"\\t\", \n",
    "                     names=[\"species1\",\"interaction_type\",\"species2\"])\n",
    "\n",
    "df.head()"
   ]
  },
  {
   "cell_type": "code",
   "execution_count": 4,
   "metadata": {
    "collapsed": false
   },
   "outputs": [],
   "source": [
    "interaction_types_ppi = set([\"interacts-with\",\n",
    "                           \"in-complex-with\",\n",
    "                           \"neighbor-of\"])\n",
    "\n",
    "interaction_types_metab = set([\"controls-production-of\",\n",
    "                             \"consumption-controlled-by\",\n",
    "                             \"controls-production-of\",\n",
    "                             \"controls-transport-of-chemical\"])\n",
    "\n",
    "interaction_types_ppd = set([\"catalysis-precedes\",\n",
    "                           \"controls-phosphorylation-of\",\n",
    "                           \"controls-state-change-of\",\n",
    "                           \"controls-transport-of\",\n",
    "                           \"controls-expression-of\"])"
   ]
  },
  {
   "cell_type": "code",
   "execution_count": 7,
   "metadata": {
    "collapsed": false,
    "scrolled": true
   },
   "outputs": [
    {
     "name": "stdout",
     "output_type": "stream",
     "text": [
      "[['A1BG', 'ANXA7'], ['A1BG', 'CDKN1A'], ['A1BG', 'CRISP3'], ['A1BG', 'GDPD1']]\n"
     ]
    }
   ],
   "source": [
    "ppirows = df.interaction_type.isin(interaction_types_ppi)\n",
    "metabrows = df.interaction_type.isin(interaction_types_metab)\n",
    "ppdrows = df.interaction_type.isin(interaction_types_ppd)\n",
    "\n",
    "df_ppi = df[df.interaction_type.isin(interaction_types_ppi)]\n",
    "df_metab = df[df.interaction_type.isin(interaction_types_metab)]\n",
    "df_ppd = df[df.interaction_type.isin(interaction_types_ppd)]\n",
    "\n",
    "df_ppi_el = df_ppi[[\"species1\",\"species2\"]].values.tolist()\n",
    "df_metab_el = df_metab[[\"species1\",\"species2\"]].values.tolist()\n",
    "df_ppd_el = df_ppd[[\"species1\",\"species2\"]].values.tolist()\n",
    "\n",
    "print(df_ppi_el[1:5])"
   ]
  },
  {
   "cell_type": "code",
   "execution_count": 12,
   "metadata": {
    "collapsed": false
   },
   "outputs": [
    {
     "name": "stdout",
     "output_type": "stream",
     "text": [
      "IGRAPH UN-- 17020 523498 -- \n",
      "+ attr: name (v)\n"
     ]
    }
   ],
   "source": [
    "from igraph import Graph\n",
    "from igraph import summary\n",
    "\n",
    "graph_ppi = Graph.TupleList(df_ppi_el)\n",
    "summary(graph_ppi)"
   ]
  },
  {
   "cell_type": "code",
   "execution_count": 13,
   "metadata": {
    "collapsed": false
   },
   "outputs": [
    {
     "name": "stdout",
     "output_type": "stream",
     "text": [
      "IGRAPH DN-- 7620 38145 -- \n",
      "+ attr: name (v)\n"
     ]
    }
   ],
   "source": [
    "graph_metab = Graph.TupleList(df_metab_el, directed=True)\n",
    "summary(graph_metab)"
   ]
  },
  {
   "cell_type": "code",
   "execution_count": 14,
   "metadata": {
    "collapsed": false
   },
   "outputs": [
    {
     "name": "stdout",
     "output_type": "stream",
     "text": [
      "IGRAPH DN-- 16063 359713 -- \n",
      "+ attr: name (v)\n"
     ]
    }
   ],
   "source": [
    "graph_ppd = Graph.TupleList(df_ppd_el, directed=True)\n",
    "summary(graph_ppd)"
   ]
  },
  {
   "cell_type": "code",
   "execution_count": 51,
   "metadata": {
    "collapsed": false
   },
   "outputs": [
    {
     "data": {
      "text/plain": [
       "list"
      ]
     },
     "execution_count": 51,
     "metadata": {},
     "output_type": "execute_result"
    }
   ],
   "source": [
    "type(df_ppi_el)"
   ]
  },
  {
   "cell_type": "code",
   "execution_count": null,
   "metadata": {
    "collapsed": true
   },
   "outputs": [],
   "source": []
  }
 ],
 "metadata": {
  "kernelspec": {
   "display_name": "Python 3",
   "language": "python",
   "name": "python3"
  },
  "language_info": {
   "codemirror_mode": {
    "name": "ipython",
    "version": 3
   },
   "file_extension": ".py",
   "mimetype": "text/x-python",
   "name": "python",
   "nbconvert_exporter": "python",
   "pygments_lexer": "ipython3",
   "version": "3.5.2"
  }
 },
 "nbformat": 4,
 "nbformat_minor": 1
}
