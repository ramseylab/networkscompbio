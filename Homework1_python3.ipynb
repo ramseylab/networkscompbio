{
 "cells": [
  {
   "cell_type": "markdown",
   "metadata": {},
   "source": [
    "# CS446/519 Homework 1"
   ]
  },
  {
   "cell_type": "markdown",
   "metadata": {},
   "source": [
    "Read in the metabolic network as a directed bipartite graph (hint: use `read_csv` from `pandas`)"
   ]
  },
  {
   "cell_type": "code",
   "execution_count": 11,
   "metadata": {
    "collapsed": false
   },
   "outputs": [],
   "source": [
    "import pandas as pd\n",
    "import numpy as np\n",
    "import matplotlib.pyplot as plt\n",
    "import itertools\n",
    "from igraph import Graph\n",
    "from igraph import summary\n",
    "from igraph.statistics import power_law_fit\n",
    "from igraph import WEAK, ALL"
   ]
  },
  {
   "cell_type": "code",
   "execution_count": 12,
   "metadata": {
    "collapsed": false
   },
   "outputs": [
    {
     "data": {
      "text/html": [
       "<div>\n",
       "<table border=\"1\" class=\"dataframe\">\n",
       "  <thead>\n",
       "    <tr style=\"text-align: right;\">\n",
       "      <th></th>\n",
       "      <th>ep1</th>\n",
       "      <th>ep2</th>\n",
       "    </tr>\n",
       "  </thead>\n",
       "  <tbody>\n",
       "    <tr>\n",
       "      <th>0</th>\n",
       "      <td>alkylated DNA</td>\n",
       "      <td>REACTION1</td>\n",
       "    </tr>\n",
       "    <tr>\n",
       "      <th>1</th>\n",
       "      <td>REACTION1</td>\n",
       "      <td>DNAn</td>\n",
       "    </tr>\n",
       "    <tr>\n",
       "      <th>2</th>\n",
       "      <td>REACTION1</td>\n",
       "      <td>alkylated nucleobase</td>\n",
       "    </tr>\n",
       "    <tr>\n",
       "      <th>3</th>\n",
       "      <td>acetyl-CoA</td>\n",
       "      <td>REACTION2</td>\n",
       "    </tr>\n",
       "    <tr>\n",
       "      <th>4</th>\n",
       "      <td>1-alkyl-2-lyso-sn-glycero-3-phosphocholine</td>\n",
       "      <td>REACTION2</td>\n",
       "    </tr>\n",
       "  </tbody>\n",
       "</table>\n",
       "</div>"
      ],
      "text/plain": [
       "                                          ep1                   ep2\n",
       "0                               alkylated DNA             REACTION1\n",
       "1                                   REACTION1                  DNAn\n",
       "2                                   REACTION1  alkylated nucleobase\n",
       "3                                  acetyl-CoA             REACTION2\n",
       "4  1-alkyl-2-lyso-sn-glycero-3-phosphocholine             REACTION2"
      ]
     },
     "execution_count": 12,
     "metadata": {},
     "output_type": "execute_result"
    }
   ],
   "source": [
    "hsmet = pd.read_csv(\"shared/hsmetnet.txt\", sep=\"\\t\", \n",
    "                    header=None, names=[\"ep1\", \"ep2\"])\n",
    "hsmet.head()"
   ]
  },
  {
   "cell_type": "markdown",
   "metadata": {},
   "source": [
    "Get the names of all vertices and get a list of indexes of vertices that are metabolites (hint: use `Graph.TupleList` with `directed=True`; you can use  `.values.tolist()` on the Pandas dataframe"
   ]
  },
  {
   "cell_type": "code",
   "execution_count": 13,
   "metadata": {
    "collapsed": false
   },
   "outputs": [
    {
     "name": "stdout",
     "output_type": "stream",
     "text": [
      "IGRAPH DN-- 7879 19708 -- \n",
      "+ attr: name (v)\n"
     ]
    }
   ],
   "source": [
    "g_hsmet = Graph.TupleList(hsmet.values.tolist(), directed=True)\n",
    "summary(g_hsmet)"
   ]
  },
  {
   "cell_type": "markdown",
   "metadata": {},
   "source": [
    "How many distinct metabolites are there in the graph? How many reactions? How many edges are there? (hint: use `in`, `for`, `len`, `str`, `set`, and `shape`)# print(len(mask_k_2))"
   ]
  },
  {
   "cell_type": "code",
   "execution_count": 14,
   "metadata": {
    "collapsed": false
   },
   "outputs": [
    {
     "name": "stdout",
     "output_type": "stream",
     "text": [
      "number of distinct metabolites in the graph: 2340\n",
      "number of distinct reactions in the graph: 5539\n",
      "number of edges in the graph: 19708\n"
     ]
    }
   ],
   "source": [
    "v_names = pd.Series(g_hsmet.vs[\"name\"]).drop_duplicates()\n",
    "is_reaction = v_names.str.startswith(\"REACTION\")\n",
    "n_reaction = sum(is_reaction)\n",
    "\n",
    "print(\"number of distinct metabolites in the graph: {}\".format(\n",
    "        len(v_names) - n_reaction))\n",
    "print(\"number of distinct reactions in the graph: {}\".format(\n",
    "        n_reaction))\n",
    "print(\"number of edges in the graph: {}\".format(\n",
    "        hsmet.shape[0]))"
   ]
  },
  {
   "cell_type": "markdown",
   "metadata": {},
   "source": [
    "What are the top six metabolites in terms of vertex degree in the graph? (hint: use `for`, `enumerate`, `sorted` (with `reverse=True`), and `lambda` or `itemgetter`)"
   ]
  },
  {
   "cell_type": "code",
   "execution_count": 15,
   "metadata": {
    "collapsed": false
   },
   "outputs": [
    {
     "name": "stdout",
     "output_type": "stream",
     "text": [
      "ATP                                           1202\n",
      "ADP                                            967\n",
      "phosphate                                      562\n",
      "peptide                                        456\n",
      "[protein]-(L-serine/L-threonine)               383\n",
      "[protein] (L-serine/L-threonine) phosphate     383\n",
      "dtype: int64\n"
     ]
    }
   ],
   "source": [
    "v_seq = hsmet[\"ep1\"].append(hsmet[\"ep2\"])\n",
    "mtb_seq = v_seq[~v_seq.str.startswith(\"REACTION\")]\n",
    "mtb_count = mtb_seq.value_counts(ascending=False)\n",
    "\n",
    "print(mtb_count.head(6))"
   ]
  },
  {
   "cell_type": "markdown",
   "metadata": {},
   "source": [
    "Plot the distribution of the degrees of these vertices, on log-log scale.  (hint: use `degree_distribution` in igraph, with `vertices=metabolite_inds`; use the `.bins()` method to get the bin counts out; you can use `pylab.plot` to plot)"
   ]
  },
  {
   "cell_type": "code",
   "execution_count": 27,
   "metadata": {
    "collapsed": false
   },
   "outputs": [
    {
     "name": "stdout",
     "output_type": "stream",
     "text": [
      "   break1  break2  count\n",
      "0     1.0     2.0    710\n",
      "1     2.0     3.0    581\n",
      "2     3.0     4.0    259\n",
      "3     4.0     5.0    175\n",
      "4     5.0     6.0     96\n"
     ]
    },
    {
     "data": {
      "image/png": "[encoded data removed]",
      "text/plain": [
       "<matplotlib.figure.Figure at 0x7f66d04a7f28>"
      ]
     },
     "metadata": {},
     "output_type": "display_data"
    }
   ],
   "source": [
    "mtb_names = v_names[~is_reaction].tolist()\n",
    "v_mtb = g_hsmet.vs.select(name_in = mtb_names)\n",
    "\n",
    "deg_dist = g_hsmet.degree_distribution(vertices=v_mtb)\n",
    "\n",
    "deg_dist_df = pd.DataFrame(deg_dist.bins(), \n",
    "                           columns=[\"break1\", \"break2\", \"count\"])\n",
    "print(deg_dist_df.head())\n",
    "\n",
    "deg_breaks = (deg_dist_df[\"break1\"] + deg_dist_df[\"break2\"]) / 2\n",
    "# \"count\" is a function name. `df.count` is ambiguous\n",
    "deg_counts = deg_dist_df[\"count\"] \n",
    "\n",
    "ax = plt.subplot(111)\n",
    "plt.plot(np.log(deg_breaks.tolist()), np.log(deg_counts.tolist()), \"o\")\n",
    "plt.xlabel(\"log(k)\")\n",
    "plt.ylabel(\"log(N(k))\")\n",
    "plt.show()"
   ]
  },
  {
   "cell_type": "markdown",
   "metadata": {},
   "source": [
    "Calculate the exponent α of the best-fit power-law (hint: use `igraph.statistics.power_law_fit`)"
   ]
  },
  {
   "cell_type": "code",
   "execution_count": 17,
   "metadata": {
    "collapsed": false
   },
   "outputs": [
    {
     "name": "stdout",
     "output_type": "stream",
     "text": [
      "Fitted power-law distribution on discrete data\n",
      "\n",
      "Exponent (alpha)  = 2.023415\n",
      "Cutoff (xmin)     = 9.000000\n",
      "\n",
      "Log-likelihood    = -1298.549972\n",
      "\n",
      "H0: data was drawn from the fitted distribution\n",
      "\n",
      "KS test statistic = 0.018684\n",
      "p-value           = 0.999892\n",
      "\n",
      "H0 could not be rejected at significance level 0.05\n"
     ]
    }
   ],
   "source": [
    "fitted = power_law_fit(g_hsmet.degree())\n",
    "print(fitted.summary())"
   ]
  },
  {
   "cell_type": "markdown",
   "metadata": {},
   "source": [
    "Calculate the shortest-path-length between all pairs of metabolites (vertices) in the giant weakly connected component of the graph, discarding direction information.  (hint: use `clusters` with `mode=weak` to get the giant weakly-connected component; then use `components.membership` and `enumerate` to get the giant component members; then use `igraph.shortest_paths` with `mode=igraph.ALL`, with\n",
    "`source=<metabolite_vertex_indices>` and `target=<metabolite_vertex_indices>` to get the\n",
    "all-pairs-shortest-paths.)"
   ]
  },
  {
   "cell_type": "code",
   "execution_count": 18,
   "metadata": {
    "collapsed": false
   },
   "outputs": [],
   "source": [
    "components = g_hsmet.clusters(mode=WEAK)\n",
    "comp_mmb = components.membership"
   ]
  },
  {
   "cell_type": "code",
   "execution_count": 19,
   "metadata": {
    "collapsed": false
   },
   "outputs": [],
   "source": [
    "apsp = g_hsmet.shortest_paths(mode=ALL, source=v_mtb, target=v_mtb)"
   ]
  },
  {
   "cell_type": "markdown",
   "metadata": {},
   "source": [
    "Calculate the average of the shortest-path-length between all pairs of metabolites in the giant (weakly connected) component of the network, by throwing away any shortest-paths distance value if it is infinite. (hint: Use `numpy.array`, `numpy.isfinite` and `numpy.mean` to get the mean distance.)"
   ]
  },
  {
   "cell_type": "code",
   "execution_count": 20,
   "metadata": {
    "collapsed": false
   },
   "outputs": [
    {
     "data": {
      "text/plain": [
       "6.7936869574623433"
      ]
     },
     "execution_count": 20,
     "metadata": {},
     "output_type": "execute_result"
    }
   ],
   "source": [
    "merged_apsp = np.array(list(itertools.chain(*apsp)))\n",
    "merged_apsp = merged_apsp[np.isfinite(merged_apsp)]\n",
    "np.mean(merged_apsp)"
   ]
  },
  {
   "cell_type": "markdown",
   "metadata": {},
   "source": [
    "Calculate the maximum of the shortest-path-length between all pairs of metabolites (throwing away infinite values, as before) in the giant (weakly connected) component of the network (i.e., you are calculating the diameter of the giant component). (hint: use `numpy.max` and `numpy.isfinite`)"
   ]
  },
  {
   "cell_type": "code",
   "execution_count": 21,
   "metadata": {
    "collapsed": false
   },
   "outputs": [
    {
     "data": {
      "text/plain": [
       "18.0"
      ]
     },
     "execution_count": 21,
     "metadata": {},
     "output_type": "execute_result"
    }
   ],
   "source": [
    "np.max(merged_apsp)"
   ]
  },
  {
   "cell_type": "markdown",
   "metadata": {},
   "source": [
    "Calculate the shortest-paths betweenness centrality for all metabolites in the network. Make sure you are doing this on the directed graph (hint: use the `betweenness` function with the `v=<vector of vertex indices>` and `directed=True` options)"
   ]
  },
  {
   "cell_type": "code",
   "execution_count": 22,
   "metadata": {
    "collapsed": true
   },
   "outputs": [],
   "source": [
    "btw = g_hsmet.betweenness(vertices=v_mtb, directed=True)"
   ]
  },
  {
   "cell_type": "markdown",
   "metadata": {},
   "source": [
    "plot the scatter plot of betweenness centrality vs. vertex degree for all metabolites, on log-log scale. (hint:  use `numpy.array`, `numpy.where`, and `matplotlib.pyplot.scatter`)"
   ]
  },
  {
   "cell_type": "code",
   "execution_count": 23,
   "metadata": {
    "collapsed": false
   },
   "outputs": [
    {
     "data": {
      "image/png": "[encoded data removed]",
      "text/plain": [
       "<matplotlib.figure.Figure at 0x7f66cca21a58>"
      ]
     },
     "metadata": {},
     "output_type": "display_data"
    }
   ],
   "source": [
    "ax = plt.gca()\n",
    "ax.scatter(np.log10(g_hsmet.degree(vertices=v_mtb, mode=ALL)), \n",
    "           np.log(btw))\n",
    "plt.xlabel(\"log(degree)\")\n",
    "plt.ylabel(\"log(closeness)\")\n",
    "plt.show()"
   ]
  },
  {
   "cell_type": "markdown",
   "metadata": {},
   "source": [
    "Among metabolites with degree k=2 , what metabolite has highest betweenness centrality in the network? (hint:  use `numpy.argmax` and `numpy.where`.  Output should be \"L-arginino-succinate\""
   ]
  },
  {
   "cell_type": "code",
   "execution_count": 24,
   "metadata": {
    "collapsed": false
   },
   "outputs": [
    {
     "name": "stdout",
     "output_type": "stream",
     "text": [
      "L-arginino-succinate\n"
     ]
    }
   ],
   "source": [
    "mask_k_2 = (np.array(g_hsmet.degree(vertices=v_mtb, mode=ALL)) == 2)\n",
    "v_mtb_k_2 = np.array(v_mtb.indices)[mask_k_2]\n",
    "btw_k_2 = np.array(btw)[mask_k_2]\n",
    "\n",
    "max_btw_id = np.argmax(btw_k_2)\n",
    "max_v_id = v_mtb_k_2[max_btw_id]\n",
    "\n",
    "print(g_hsmet.vs[max_v_id][\"name\"])"
   ]
  }
 ],
 "metadata": {
  "kernelspec": {
   "display_name": "Python 3",
   "language": "python",
   "name": "python3"
  },
  "language_info": {
   "codemirror_mode": {
    "name": "ipython",
    "version": 3
   },
   "file_extension": ".py",
   "mimetype": "text/x-python",
   "name": "python",
   "nbconvert_exporter": "python",
   "pygments_lexer": "ipython3",
   "version": "3.5.2"
  }
 },
 "nbformat": 4,
 "nbformat_minor": 1
}
